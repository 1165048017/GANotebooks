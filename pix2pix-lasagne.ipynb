{
 "cells": [
  {
   "cell_type": "code",
   "execution_count": null,
   "metadata": {
    "collapsed": false
   },
   "outputs": [],
   "source": [
    "import os\n",
    "os.environ['THEANO_FLAGS']='floatX=float32,device=cuda,optimizer=fast_run,dnn.library_path=/usr/lib'\n",
    "channel_first = True\n",
    "channel_axis=1"
   ]
  },
  {
   "cell_type": "code",
   "execution_count": null,
   "metadata": {
    "collapsed": false
   },
   "outputs": [],
   "source": [
    "import numpy as np\n",
    "import theano\n",
    "import theano.tensor as T\n",
    "import lasagne\n",
    "from lasagne.layers import DropoutLayer, ReshapeLayer, InputLayer \n",
    "floatX = theano.config.floatX\n",
    "from lasagne.layers import Conv2DLayer, TransposedConv2DLayer, ConcatLayer, NonlinearityLayer\n",
    "from lasagne.layers import batch_norm\n",
    "from lasagne.nonlinearities import LeakyRectify, sigmoid, rectify, tanh"
   ]
  },
  {
   "cell_type": "code",
   "execution_count": null,
   "metadata": {
    "collapsed": false
   },
   "outputs": [],
   "source": [
    "conv_init = lasagne.init.Normal(0.02, 0)\n",
    "gamma_init = lasagne.init.Normal(0.02, 1)"
   ]
  },
  {
   "cell_type": "code",
   "execution_count": null,
   "metadata": {
    "collapsed": false
   },
   "outputs": [],
   "source": [
    "def BASIC_D(nc_in, nc_out, ndf, max_layers=3):\n",
    "    l = -1\n",
    "    def conv2d(x, nf, stride=2, nonlinearity=LeakyRectify(0.2)):\n",
    "        nonlocal l\n",
    "        l+=1\n",
    "        return Conv2DLayer(x, num_filters=nf, filter_size=4, stride=stride, \n",
    "                           pad=1, W=conv_init, flip_filters=False,\n",
    "                            nonlinearity=nonlinearity,\n",
    "                           name=\"conv2d_{}\".format(l)\n",
    "                          )\n",
    "    input_a = InputLayer(shape=(None, nc_in, 256, 256), name=\"inputA\")\n",
    "    input_b = InputLayer(shape=(None, nc_out, 256, 256), name=\"inputB\")\n",
    "    _ = ConcatLayer([input_a, input_b], name='concat')\n",
    "    _ = conv2d(_, ndf)\n",
    "    for layer in range(1, max_layers):        \n",
    "        out_feat = ndf * min(2**layer, 8)\n",
    "        _ = conv2d(_, out_feat)\n",
    "        _ = batch_norm(_, epsilon=1e-5, gamma=gamma_init)\n",
    "    out_feat = ndf*min(2**max_layers, 8)\n",
    "    _ = conv2d(_, out_feat, stride=1)\n",
    "    _ = batch_norm(_, epsilon=1e-5, gamma=gamma_init)           \n",
    "    _ = conv2d(_, 1, stride=1, nonlinearity=sigmoid)\n",
    "    return _\n"
   ]
  },
  {
   "cell_type": "code",
   "execution_count": null,
   "metadata": {
    "collapsed": false
   },
   "outputs": [],
   "source": [
    "def UNET_G(isize, nc_in=3, nc_out=3, ngf=64, fixed_input_size=True):    \n",
    "    max_nf = 8*ngf    \n",
    "    def block(x, s, nf_in, use_batchnorm=True, nf_out=None, nf_next=None):\n",
    "        # print(\"block\",x,s,nf_in, use_batchnorm, nf_out, nf_next)\n",
    "        assert s>=2 and s%2==0\n",
    "        if nf_next is None:\n",
    "            nf_next = min(nf_in*2, max_nf)\n",
    "        if nf_out is None:\n",
    "            nf_out = nf_in\n",
    "            \n",
    "        x = Conv2DLayer(x, num_filters=nf_next, filter_size=4, stride=2, pad=1, W=conv_init, flip_filters=False,                \n",
    "                nonlinearity=None, name='conv2d_{}'.format(s))\n",
    "        if s>2:\n",
    "            if use_batchnorm:\n",
    "                x = batch_norm(x, epsilon=1e-5, gamma=gamma_init)\n",
    "            x2 = NonlinearityLayer(x, nonlinearity=LeakyRectify(0.2), name=\"leakyRelu_{}\".format(s))\n",
    "            x2 = block(x2, s//2, nf_next)\n",
    "            x = ConcatLayer([x, x2], name=\"concat_{}\".format(s))            \n",
    "        x = NonlinearityLayer(x, nonlinearity=rectify, name=\"Relu_{}\".format(s))\n",
    "        x = TransposedConv2DLayer(x, num_filters=nf_out, filter_size=4, stride=2, crop=1, W=conv_init, \n",
    "                                  flip_filters=True, nonlinearity=None, name=\"convt_{}\".format(s))\n",
    "        if use_batchnorm:\n",
    "            x = batch_norm(x, epsilon=1e-5, gamma=gamma_init)\n",
    "        if s <= 8:\n",
    "            x = DropoutLayer(x, 0.5, name=\"dropout_{}\".format(s))\n",
    "        return x\n",
    "    \n",
    "    s = isize if fixed_input_size else None\n",
    "    _ = InputLayer(shape=(None, nc_in, s, s), name='input')\n",
    "    _ = block(_, isize, nc_in, False, nf_out=nc_out, nf_next=ngf)\n",
    "    _ = NonlinearityLayer(_, nonlinearity=tanh, name='tanh')\n",
    "    return _"
   ]
  },
  {
   "cell_type": "code",
   "execution_count": null,
   "metadata": {
    "collapsed": true
   },
   "outputs": [],
   "source": [
    "nc_in = 3\n",
    "nc_out = 3\n",
    "ngf = 64\n",
    "ndf = 64\n",
    "λ = 10\n",
    "\n",
    "loadSize = 286\n",
    "imageSize = 256\n",
    "batchSize = 1\n",
    "lrD = 2e-4\n",
    "lrG = 2e-4"
   ]
  },
  {
   "cell_type": "code",
   "execution_count": null,
   "metadata": {
    "collapsed": false
   },
   "outputs": [],
   "source": [
    "netD = BASIC_D(nc_in, nc_out, ndf)\n",
    "for l in lasagne.layers.get_all_layers(netD):\n",
    "    print(l.name,  l.output_shape)\n"
   ]
  },
  {
   "cell_type": "code",
   "execution_count": null,
   "metadata": {
    "collapsed": false
   },
   "outputs": [],
   "source": [
    "netG = UNET_G(imageSize, nc_in, nc_out, ngf)\n",
    "for l in lasagne.layers.get_all_layers(netG):\n",
    "    print(l.name,  l.output_shape)"
   ]
  },
  {
   "cell_type": "code",
   "execution_count": null,
   "metadata": {
    "collapsed": false
   },
   "outputs": [],
   "source": [
    "from lasagne.layers import get_output, get_all_layers,get_all_params\n",
    "no_bn_avg = dict( batch_norm_update_averages=False,\n",
    "                       batch_norm_use_averages=False)\n",
    "real_A = get_all_layers(netG)[0].input_var\n",
    "fake_B = get_output(netG, **no_bn_avg)\n",
    "netG_generate =  theano.function([real_A], fake_B)\n",
    "\n",
    "netD_l1, netD_l2 = get_all_layers(netD)[:2]\n",
    "real_B = netD_l2.input_var\n",
    "\n",
    "output_D_real = get_output(netD, inputs={netD_l1: real_A, netD_l2: real_B}, **no_bn_avg)\n",
    "output_D_fake = get_output(netD, inputs={netD_l1: real_A, netD_l2: fake_B}, **no_bn_avg)\n",
    "loss_fn = lambda output, target : -T.mean(T.log(output+1e-12)*target+T.log(1-output+1e-12)*(1-target))\n",
    "\n",
    "loss_D_real = loss_fn(output_D_real, T.ones_like(output_D_real))\n",
    "loss_D_fake = loss_fn(output_D_fake, T.zeros_like(output_D_fake))\n",
    "loss_D = loss_D_real +loss_D_fake\n",
    "\n",
    "loss_G_fake = loss_fn(output_D_fake, T.ones_like(output_D_fake))"
   ]
  },
  {
   "cell_type": "code",
   "execution_count": null,
   "metadata": {
    "collapsed": false
   },
   "outputs": [],
   "source": [
    "loss_L1 = T.mean(abs(fake_B-real_B))\n",
    "loss_G = loss_G_fake   + 100 * loss_L1\n",
    "\n",
    "params_netD = get_all_params(netD, trainable=True) \n",
    "params_netG = get_all_params(netG, trainable=True)\n",
    "\n",
    "\n",
    "optimize_G = lasagne.updates.adam(loss_G, params_netG, learning_rate=lrG, beta1=0.5)\n",
    "optimize_D = lasagne.updates.adam(loss_D, params_netD, learning_rate=lrD, beta1=0.5)\n",
    "netG_train =  theano.function([real_A, real_B], [loss_G_fake, loss_L1], updates=optimize_G)\n",
    "netD_train = theano.function([real_A, real_B], [loss_D/2], updates=optimize_D)"
   ]
  },
  {
   "cell_type": "code",
   "execution_count": null,
   "metadata": {
    "collapsed": true
   },
   "outputs": [],
   "source": [
    "from PIL import Image\n",
    "import numpy as np\n",
    "import glob\n",
    "from random import randint, shuffle\n",
    "\n",
    "def load_data(file_pattern):\n",
    "    return glob.glob(file_pattern)\n",
    "def read_image(fn, direction=0):\n",
    "    im = Image.open(fn)\n",
    "    im = im.resize( (loadSize*2, loadSize), Image.BILINEAR )\n",
    "    arr = np.array(im)/255*2-1\n",
    "    w1,w2 = (loadSize-imageSize)//2,(loadSize+imageSize)//2\n",
    "    h1,h2 = w1,w2\n",
    "    imgA = arr[h1:h2, loadSize+w1:loadSize+w2, :]\n",
    "    imgB = arr[h1:h2, w1:w2, :]\n",
    "    if randint(0,1):\n",
    "        imgA=imgA[:,::-1]\n",
    "        imgB=imgB[:,::-1]\n",
    "    if channel_first:\n",
    "        imgA = np.moveaxis(imgA, 2, 0)\n",
    "        imgB = np.moveaxis(imgB, 2, 0)\n",
    "    if direction==0:\n",
    "        return imgA, imgB\n",
    "    else:\n",
    "        return imgB,imgA\n",
    "\n",
    "data = \"edges2shoes\"\n",
    "data = \"facades\"\n",
    "direction = 0\n",
    "trainAB = load_data('pix2pix/{}/train/*.jpg'.format(data))\n",
    "valAB = load_data('pix2pix/{}/val/*.jpg'.format(data))\n",
    "assert len(trainAB) and len(valAB)"
   ]
  },
  {
   "cell_type": "code",
   "execution_count": null,
   "metadata": {
    "collapsed": true
   },
   "outputs": [],
   "source": [
    "def minibatch(dataAB, batchsize, direction=0):\n",
    "    length = len(dataAB)\n",
    "    epoch = i = 0\n",
    "    tmpsize = None    \n",
    "    while True:\n",
    "        size = tmpsize if tmpsize else batchsize\n",
    "        if i+size > length:\n",
    "            shuffle(dataAB)\n",
    "            i = 0\n",
    "            epoch+=1        \n",
    "        dataA = []\n",
    "        dataB = []\n",
    "        for j in range(i,i+size):\n",
    "            imgA,imgB = read_image(dataAB[j], direction)\n",
    "            dataA.append(imgA)\n",
    "            dataB.append(imgB)\n",
    "        dataA = np.float32(dataA)\n",
    "        dataB = np.float32(dataB)\n",
    "        i+=size\n",
    "        tmpsize = yield epoch, dataA, dataB        \n",
    "        "
   ]
  },
  {
   "cell_type": "code",
   "execution_count": null,
   "metadata": {
    "collapsed": true
   },
   "outputs": [],
   "source": [
    "from IPython.display import display\n",
    "def showX(X, rows=1):\n",
    "    assert X.shape[0]%rows == 0\n",
    "    int_X = ( (X+1)/2*255).clip(0,255).astype('uint8')\n",
    "    if channel_first:\n",
    "        int_X = np.moveaxis(int_X.reshape(-1,3,imageSize,imageSize), 1, 3)\n",
    "    else:\n",
    "        int_X = int_X.reshape(-1,imageSize,imageSize, 3)\n",
    "    int_X = int_X.reshape(rows, -1, imageSize, imageSize,3).swapaxes(1,2).reshape(rows*imageSize,-1, 3)\n",
    "    display(Image.fromarray(int_X))"
   ]
  },
  {
   "cell_type": "code",
   "execution_count": null,
   "metadata": {
    "collapsed": false
   },
   "outputs": [],
   "source": [
    "train_batch = minibatch(trainAB, 12, direction=direction)\n",
    "_, trainA, trainB = next(train_batch)\n",
    "showX(trainA, 2)\n",
    "showX(trainB, 2)\n",
    "del train_batch, trainA, trainB"
   ]
  },
  {
   "cell_type": "code",
   "execution_count": null,
   "metadata": {
    "collapsed": true
   },
   "outputs": [],
   "source": [
    "def netG_gen(A):\n",
    "    return np.concatenate([netG_generate(A[i:i+1]) for i in range(A.shape[0])], axis=0)"
   ]
  },
  {
   "cell_type": "code",
   "execution_count": null,
   "metadata": {
    "collapsed": false,
    "scrolled": true
   },
   "outputs": [],
   "source": [
    "import time\n",
    "from IPython.display import clear_output\n",
    "t0 = time.time()\n",
    "niter = 150\n",
    "gen_iterations = 0\n",
    "errL1 = epoch = errG = 0\n",
    "errL1_sum = errG_sum = errD_sum = 0\n",
    "\n",
    "display_iters = 500\n",
    "val_batch = minibatch(valAB, 6, direction)\n",
    "train_batch = minibatch(trainAB, batchSize, direction)\n",
    "\n",
    "while epoch < niter: \n",
    "    epoch, trainA, trainB = next(train_batch)        \n",
    "    errD,  = netD_train(trainA, trainB)\n",
    "    errD_sum +=errD\n",
    "\n",
    "    # epoch, trainA, trainB = next(train_batch)\n",
    "    errG, errL1 = netG_train(trainA, trainB)\n",
    "    errG_sum += errG\n",
    "    errL1_sum += errL1\n",
    "    gen_iterations+=1\n",
    "    if gen_iterations%display_iters==0:\n",
    "        if gen_iterations%(5*display_iters)==0:\n",
    "            clear_output()\n",
    "        print('[%d/%d][%d] Loss_D: %f Loss_G: %f loss_L1: %f'\n",
    "        % (epoch, niter, gen_iterations, errD_sum/display_iters, errG_sum/display_iters, errL1_sum/display_iters), time.time()-t0)\n",
    "        _, valA, valB = train_batch.send(6) \n",
    "        fakeB = netG_gen(valA)\n",
    "        showX(np.concatenate([valA, valB, fakeB], axis=0), 3)\n",
    "        errL1_sum = errG_sum = errD_sum = 0\n",
    "        _, valA, valB = next(val_batch)\n",
    "        fakeB = netG_gen(valA)\n",
    "        showX(np.concatenate([valA, valB, fakeB], axis=0), 3)\n",
    "        "
   ]
  },
  {
   "cell_type": "code",
   "execution_count": null,
   "metadata": {
    "collapsed": true
   },
   "outputs": [],
   "source": []
  }
 ],
 "metadata": {
  "kernelspec": {
   "display_name": "Python 3",
   "language": "python",
   "name": "python3"
  },
  "language_info": {
   "codemirror_mode": {
    "name": "ipython",
    "version": 3
   },
   "file_extension": ".py",
   "mimetype": "text/x-python",
   "name": "python",
   "nbconvert_exporter": "python",
   "pygments_lexer": "ipython3",
   "version": "3.5.3"
  }
 },
 "nbformat": 4,
 "nbformat_minor": 1
}
